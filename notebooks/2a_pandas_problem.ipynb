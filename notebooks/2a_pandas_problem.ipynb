{
 "cells": [
  {
   "cell_type": "markdown",
   "id": "2baec55c-b69e-40e6-b0d7-6a18d7b58a3a",
   "metadata": {},
   "source": [
    "## Exercise: Signal Selection and Invariant Mass\n",
    "\n",
    "This example starts with a very simple toy model and uses pandas. Here's the toy:"
   ]
  },
  {
   "cell_type": "code",
   "execution_count": null,
   "id": "c73e76fb-202b-4df3-bc99-0e9997363bcf",
   "metadata": {},
   "outputs": [],
   "source": [
    "import pandas as pd\n",
    "import numpy as np\n",
    "import matplotlib.pyplot as plt\n",
    "\n",
    "rng = np.random.default_rng()\n",
    "\n",
    "N = 10_000\n",
    "\n",
    "df = pd.DataFrame({\n",
    "    \"event_id\": np.arange(N),\n",
    "    \"px\": rng.normal(0, 20, size=N),\n",
    "    \"py\": rng.normal(0, 20, size=N),\n",
    "    \"pz\": rng.normal(0, 50, size=N),\n",
    "    \"E\": rng.normal(100, 10, size=N),\n",
    "    \"label\": rng.choice([\"signal\", \"background\"], size=N, p=[0.1, 0.9]),\n",
    "})"
   ]
  },
  {
   "cell_type": "markdown",
   "id": "961e4645-19f8-4fd5-9269-a7182b01c04a",
   "metadata": {},
   "source": [
    "We are generating some unphysical events, but that's fine for now, we will filter them later."
   ]
  },
  {
   "cell_type": "markdown",
   "id": "7802e538-d21a-4603-8f1b-9ec28d969b22",
   "metadata": {},
   "source": [
    "## Step 1: Compute transverse momentum\n",
    "\n",
    "$$\n",
    "p_T^2 = \\sqrt{p_x^2 + p_y^2}\n",
    "$$\n",
    "\n",
    "<!--\n",
    "df[\"pt\"] = np.sqrt(df.px**2 + df.py**2)\n",
    "-->"
   ]
  },
  {
   "cell_type": "code",
   "execution_count": null,
   "id": "f0f42290-59cc-4586-8e5a-f4fbe2c8e52c",
   "metadata": {},
   "outputs": [],
   "source": [
    "df[\"pt\"] = ..."
   ]
  },
  {
   "cell_type": "markdown",
   "id": "85235fe2-5034-4387-86f5-183db5b009b4",
   "metadata": {},
   "source": [
    "## Step 2: Select signal events with pt > 30\n",
    "\n",
    "<!--\n",
    "signal_highpt = df[(df.label == \"signal\") & (df.pt > 30)]\n",
    "-->"
   ]
  },
  {
   "cell_type": "code",
   "execution_count": null,
   "id": "da5c8b70-41b5-4743-83a9-d2c599153911",
   "metadata": {},
   "outputs": [],
   "source": [
    "signal_highpt = ..."
   ]
  },
  {
   "cell_type": "markdown",
   "id": "728ea9d9-03dc-444e-a522-ffe88a73069b",
   "metadata": {},
   "source": [
    "Histogram of number of signal events vs pt"
   ]
  },
  {
   "cell_type": "code",
   "execution_count": null,
   "id": "ed0672a5-29de-4dbc-a35c-9cd8073bdee5",
   "metadata": {},
   "outputs": [],
   "source": [
    "signal_highpt.pt.plot.hist(bins=30)\n",
    "plt.title(\"Signal Events with $p_T > 30$ GeV\")\n",
    "plt.xlabel(\"$p_T$ (GeV)\")\n",
    "plt.ylabel(\"Entries\")\n",
    "plt.show()"
   ]
  },
  {
   "cell_type": "markdown",
   "id": "acf327fc-9458-4766-824d-a15dea500b97",
   "metadata": {},
   "source": [
    "## Step 3: Compute invariant mass:\n",
    "\n",
    "$$\n",
    "m^2 = E^2 - \\vec{p}^2\n",
    "$$\n",
    "\n",
    "<!--\n",
    "df[\"mass_squared\"] = df.E**2 - (df.px**2 + df.py**2 + df.pz**2)\n",
    "-->"
   ]
  },
  {
   "cell_type": "code",
   "execution_count": null,
   "id": "823474be-24c2-4713-bcbe-c91413022fbc",
   "metadata": {},
   "outputs": [],
   "source": [
    "df[\"mass_squared\"] = ...\n",
    "\n",
    "# Filter unphysical entries from our simple generation\n",
    "df = df[df.mass_squared > 0]\n",
    "\n",
    "df[\"mass\"] = np.sqrt(df.mass_squared)"
   ]
  },
  {
   "cell_type": "markdown",
   "id": "215ec94d-fa5a-42a3-a2c5-a979d952637f",
   "metadata": {},
   "source": [
    "## Plot histogram of invariant mass for all events"
   ]
  },
  {
   "cell_type": "code",
   "execution_count": null,
   "id": "a8362a8f-48f4-4f99-9f01-62017cb5d110",
   "metadata": {},
   "outputs": [],
   "source": [
    "df.mass.plot.hist(bins=40)\n",
    "plt.title(\"Invariant Mass Distribution (All Events)\")\n",
    "plt.xlabel(\"Mass (GeV)\")\n",
    "plt.ylabel(\"Entries\")\n",
    "plt.show()"
   ]
  }
 ],
 "metadata": {
  "kernelspec": {
   "display_name": "Python 3 (ipykernel)",
   "language": "python",
   "name": "python3"
  },
  "language_info": {
   "codemirror_mode": {
    "name": "ipython",
    "version": 3
   },
   "file_extension": ".py",
   "mimetype": "text/x-python",
   "name": "python",
   "nbconvert_exporter": "python",
   "pygments_lexer": "ipython3",
   "version": "3.12.11"
  }
 },
 "nbformat": 4,
 "nbformat_minor": 5
}
