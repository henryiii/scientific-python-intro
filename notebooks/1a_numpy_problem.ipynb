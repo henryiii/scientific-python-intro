{
 "cells": [
  {
   "cell_type": "markdown",
   "id": "c720e79e-21cc-4770-8e78-8e889ed6ddcd",
   "metadata": {},
   "source": [
    "You are given a function defined over a 2D region. Your task is to:\n",
    "\n",
    "1. Create a 2D grid using `np.ogrid` over a square region.\n",
    "2. Define a complex function `f(z) = sin(|z²|) * exp(-|z| / 2)` evaluated over this grid.\n",
    "3. Compute the magnitude of `f` and store it in a real array.\n",
    "4. Apply a mask that hides values where `|z| > 4`.\n",
    "5. Visualize the masked result using pcolormesh."
   ]
  },
  {
   "cell_type": "code",
   "execution_count": null,
   "id": "acf2aeee-111b-4d75-b950-a4e894204d48",
   "metadata": {},
   "outputs": [],
   "source": [
    "import numpy as np\n",
    "import matplotlib.pyplot as plt\n",
    "import unittest"
   ]
  },
  {
   "cell_type": "markdown",
   "id": "4e84172b-9628-491b-a8c3-a071ce31a28a",
   "metadata": {},
   "source": [
    "## Step 1\n",
    "\n",
    "<!--\n",
    "x, y = np.mgrid[-5:5:501j, -5:5:501j]\n",
    "z = x + 1j*y\n",
    "-->"
   ]
  },
  {
   "cell_type": "code",
   "execution_count": null,
   "id": "4575d78f-35d8-4f48-9a7b-45c9927eff68",
   "metadata": {},
   "outputs": [],
   "source": [
    "x, y = np.mgrid[-5:5:501j, -5:5:501j]\n",
    "z = ..."
   ]
  },
  {
   "cell_type": "markdown",
   "id": "873c02f7-e6f3-4638-8846-0694575742d2",
   "metadata": {},
   "source": [
    "## Step 2\n",
    "\n",
    "<!--\n",
    "f = np.sin(np.abs(z**2)) * np.exp(-np.abs(z)/2)\n",
    "-->"
   ]
  },
  {
   "cell_type": "code",
   "execution_count": null,
   "id": "a8e993e7-0808-4e5e-b2ba-8620e98c4538",
   "metadata": {},
   "outputs": [],
   "source": [
    "f = ..."
   ]
  },
  {
   "cell_type": "markdown",
   "id": "d88ce8f4-96db-41fe-83a7-ff36ec30b6bd",
   "metadata": {},
   "source": [
    "## Step 3\n",
    "\n",
    "<!--\n",
    "magnitude = np.abs(f)\n",
    "-->"
   ]
  },
  {
   "cell_type": "code",
   "execution_count": null,
   "id": "383a3d5b-c7b4-47e2-801f-a239e29214f2",
   "metadata": {},
   "outputs": [],
   "source": [
    "magnitude = ..."
   ]
  },
  {
   "cell_type": "markdown",
   "id": "23a33a3f-57d0-4ffb-8bb8-b95af6c21108",
   "metadata": {},
   "source": [
    "## Step 4\n",
    "\n",
    "<!--\n",
    "radius = np.abs(z)\n",
    "masked_magnitude = np.ma.masked_where(radius > 4, magnitude)\n",
    "-->"
   ]
  },
  {
   "cell_type": "code",
   "execution_count": null,
   "id": "3690b2ba-dda4-4fea-b691-4cd3d87b25f5",
   "metadata": {},
   "outputs": [],
   "source": [
    "radius = ...\n",
    "masked_magnitude = ..."
   ]
  },
  {
   "cell_type": "markdown",
   "id": "c9d84218-8bd4-4af2-8c62-e8705905a7bb",
   "metadata": {},
   "source": [
    "## Step 5\n",
    "\n",
    "<!--\n",
    "fig, ax = plt.subplots()\n",
    "pc = ax.pcolormesh(x, y, masked_magnitude)\n",
    "fig.colorbar(pc, ax=ax, label=\"|f(z)|\")\n",
    "ax.set_aspect(\"equal\")\n",
    "plt.show()\n",
    "-->"
   ]
  },
  {
   "cell_type": "code",
   "execution_count": null,
   "id": "bf7503fa-11e4-44a6-85ec-f222ce3073c6",
   "metadata": {},
   "outputs": [],
   "source": [
    "fig, ax = plt.subplots()\n",
    "pc = ax.pcolormesh(...)\n",
    "fig.colorbar(pc, ax=ax, label=\"|f(z)|\")\n",
    "ax.set_aspect(\"equal\")\n",
    "plt.show()"
   ]
  },
  {
   "cell_type": "markdown",
   "id": "db497868-70b4-435a-a440-9d518c8cb0a6",
   "metadata": {},
   "source": [
    "## Tests!\n",
    "\n",
    "If you'd like, here are tests that will pass if you do the above part correctly"
   ]
  },
  {
   "cell_type": "code",
   "execution_count": null,
   "id": "d9f46b59-ba51-4d11-bc54-a89ec6a9d1f4",
   "metadata": {},
   "outputs": [],
   "source": [
    "np.testing.assert_allclose(z[0,0], -5-5j)\n",
    "np.testing.assert_allclose(f[0,0], -0.007646441029027583)\n",
    "np.testing.assert_allclose(magnitude[0,0], 0.007646441029027583)\n",
    "np.testing.assert_allclose(radius[0,0], 7.0710678118654755)"
   ]
  }
 ],
 "metadata": {
  "kernelspec": {
   "display_name": "Python 3 (ipykernel)",
   "language": "python",
   "name": "python3"
  },
  "language_info": {
   "codemirror_mode": {
    "name": "ipython",
    "version": 3
   },
   "file_extension": ".py",
   "mimetype": "text/x-python",
   "name": "python",
   "nbconvert_exporter": "python",
   "pygments_lexer": "ipython3",
   "version": "3.12.11"
  }
 },
 "nbformat": 4,
 "nbformat_minor": 5
}
